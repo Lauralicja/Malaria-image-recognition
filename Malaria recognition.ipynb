{
 "cells": [
  {
   "cell_type": "markdown",
   "metadata": {},
   "source": [
    "## Malaria recognition\n",
    "This notebook contains classification for ill patients (malaria) and healthy patients."
   ]
  },
  {
   "cell_type": "markdown",
   "metadata": {},
   "source": [
    "## Obtaining data"
   ]
  },
  {
   "cell_type": "code",
   "execution_count": null,
   "metadata": {
    "scrolled": true
   },
   "outputs": [],
   "source": [
    "from io import BytesIO\n",
    "from PIL import Image\n",
    "import os\n",
    "import cv2\n",
    "\n",
    "def read_images(directory):\n",
    "    images = []\n",
    "    for filename in os.listdir(directory):\n",
    "        img = cv2.imread(os.path.join(directory, filename))\n",
    "        if img is not None:\n",
    "            images.append(img)\n",
    "    return images\n",
    "\n",
    "images_healthy = read_images('cell_images/Uninfected/')\n",
    "images_ill = read_images('cell_images/Parasitized/')"
   ]
  },
  {
   "cell_type": "code",
   "execution_count": null,
   "metadata": {},
   "outputs": [],
   "source": [
    "# cv2.imshow('aa', images_healthy[0])\n",
    "# cv2.waitKey(0)\n",
    "# cv2.destroyAllWindows()"
   ]
  },
  {
   "cell_type": "code",
   "execution_count": null,
   "metadata": {
    "scrolled": true
   },
   "outputs": [],
   "source": [
    "import numpy as np\n",
    "from matplotlib import pyplot as plt\n",
    "from PIL import Image\n",
    "WIDTH = 100\n",
    "HEIGHT = 100\n",
    "DIM = (WIDTH, HEIGHT)\n",
    "\n",
    "orb = cv2.ORB_create(700, 1.2, 8, 25)\n",
    "\n",
    "def get_descriptors(input_image):\n",
    "    features = []\n",
    "    keypoints = orb.detect(input_image, None) \n",
    "    features.append(keypoints)\n",
    "    return features\n",
    "\n",
    "def read_original_file(img):\n",
    "    resized = cv2.resize(img, DIM, interpolation = cv2.INTER_AREA)\n",
    "    gray_resized = cv2.cvtColor(img, cv2.COLOR_BGR2GRAY)\n",
    "    return gray_resized"
   ]
  },
  {
   "cell_type": "code",
   "execution_count": null,
   "metadata": {
    "scrolled": true
   },
   "outputs": [],
   "source": [
    "import cv2\n",
    "\n",
    "def save_images(healthy, ill):\n",
    "    features_healthy, features_ill = [],[]\n",
    "    for file in healthy:\n",
    "        original = read_original_file(file)\n",
    "        descriptor = get_descriptors(original)\n",
    "        features_healthy.append(descriptor)\n",
    "    for file in ill:\n",
    "        original = read_original_file(file)\n",
    "        descriptor = get_descriptors(original)\n",
    "        features_ill.append(descriptor)\n",
    "    return features_healthy, features_ill"
   ]
  },
  {
   "cell_type": "code",
   "execution_count": null,
   "metadata": {
    "scrolled": true
   },
   "outputs": [],
   "source": [
    "features_healthy, features_ill = save_images(images_healthy, images_ill)"
   ]
  },
  {
   "cell_type": "code",
   "execution_count": null,
   "metadata": {
    "scrolled": true
   },
   "outputs": [],
   "source": [
    "import random\n",
    "\n",
    "class DataManaging:\n",
    "    def __init__(self, healthy, ill):\n",
    "        self.healthy = healthy\n",
    "        self.ill = ill\n",
    "        \n",
    "    def create_split_set(self, ratio):\n",
    "        k = round(ratio*len(self.healthy))\n",
    "        ill_new = random.choices(self.ill, k=k)\n",
    "        healthy_new = random.choices(self.healthy, k=k)\n",
    "        X = healthy_new + ill_new\n",
    "        Y = ['Healthy' for img in range(len(healthy_new))] + ['Ill' for img in range(len(ill_new))]\n",
    "        self.healthy = [img for img in self.healthy if img not in healthy_new]\n",
    "        self.ill = [img for img in self.ill if img not in ill_new]\n",
    "        return X, Y\n",
    "\n",
    "    def shuffle_data(self, x, y):\n",
    "        new_indexes = random.randint(0, len(y))\n",
    "        x,y = x[new_indexes], y[new_indexes]\n",
    "        return x,y\n",
    "    \n",
    "    def data_splitting(self, healthy, ill):\n",
    "        training_X, validation_X, test_X, training_Y, validation_Y, test_Y = [],[],[],[],[],[]\n",
    "        training_X, training_Y = self.create_split_set(0.7)\n",
    "        validation_X, validation_Y = self.create_split_set(0.7)\n",
    "        test_X, test_Y = self.create_split_set(1) # rest belongs in test set\n",
    "        return training_X, validation_X, test_X, training_Y, validation_Y, test_Y\n",
    "    \n",
    "    def data_management(self):\n",
    "        training_X, validation_X, test_X, training_Y, validation_Y, test_Y = self.data_splitting(self.healthy, self.ill)\n",
    "        self.shuffle_data(training_X, training_Y)\n",
    "        self.shuffle_data(validation_X, validation_Y)\n",
    "        self.shuffle_data(test_X, test_Y)\n",
    "        return training_X, validation_X, test_X, training_Y, validation_Y, test_Y\n",
    "        "
   ]
  },
  {
   "cell_type": "code",
   "execution_count": null,
   "metadata": {},
   "outputs": [],
   "source": [
    "data_manager = DataManaging(features_healthy, features_ill)\n",
    "training_X, validation_X, test_X, training_Y, validation_Y, test_Y = data_manager.data_management()"
   ]
  },
  {
   "cell_type": "code",
   "execution_count": null,
   "metadata": {},
   "outputs": [],
   "source": [
    "# TODO:\n",
    "# Clustering the keypoints into BOW"
   ]
  },
  {
   "cell_type": "code",
   "execution_count": null,
   "metadata": {
    "scrolled": false
   },
   "outputs": [],
   "source": [
    "from sklearn import svm\n",
    "import numpy as np\n",
    "print(np.asarray(training_X).shape)\n",
    "X = np.asarray(training_X)\n",
    "lin_clf = svm.LinearSVC()\n",
    "lin_clf.fit(X, training_Y)"
   ]
  }
 ],
 "metadata": {
  "kernelspec": {
   "display_name": "Python 3",
   "language": "python",
   "name": "python3"
  },
  "language_info": {
   "codemirror_mode": {
    "name": "ipython",
    "version": 3
   },
   "file_extension": ".py",
   "mimetype": "text/x-python",
   "name": "python",
   "nbconvert_exporter": "python",
   "pygments_lexer": "ipython3",
   "version": "3.8.2"
  }
 },
 "nbformat": 4,
 "nbformat_minor": 4
}
